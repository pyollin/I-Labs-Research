{
 "cells": [
  {
   "cell_type": "markdown",
   "metadata": {
    "collapsed": true,
    "pycharm": {
     "name": "#%% md\n"
    }
   },
   "source": [
    "# Signal Norm Analysis\n",
    "## Paul Yollin\n"
   ]
  },
  {
   "cell_type": "code",
   "execution_count": 1,
   "outputs": [],
   "source": [
    "#   Documentation of Funfile and its contained functions and classes is\n",
    "#   found in Funfile.\n",
    "import Funfile as Fun\n",
    "\n",
    "#   Setting parameters to be used\n",
    "params = {\n",
    "    'f_ext': 'Hz_10v_erm_raw.fif',\n",
    "    'rec':{}\n",
    "}"
   ],
   "metadata": {
    "collapsed": false,
    "pycharm": {
     "name": "#%% \n",
     "is_executing": false
    }
   }
  },
  {
   "cell_type": "code",
   "execution_count": null,
   "outputs": [
    {
     "name": "stdout",
     "text": [
      "102 of 102 T1/T2 magnetometer types replaced with T3.\n",
      "102 of 102 T1/T2 magnetometer types replaced with T3.\n",
      "102 of 102 T1/T2 magnetometer types replaced with T3.\n"
     ],
     "output_type": "stream"
    }
   ],
   "source": [
    "#   creating empty dictionary to hold data about calculated drops\n",
    "drops = {}\n",
    "\n",
    "#   For loop going through each freq, calculates drops and save it into\n",
    "#   the empty drops{} dictionary, also plots signal norms\n",
    "for i in ['5', '20', '70', '105']:\n",
    "    \n",
    "    #   setting the params recording number\n",
    "    params['rec'] = i\n",
    "    \n",
    "    #   using setting dat to be a RecClass object, more info found in Funfile\n",
    "    dat = Fun.RecClass(str(params['rec'])+str(params['f_ext']))\n",
    "    \n",
    "    #   plotting signal norms, only plotting 90 to 91 seconds of each\n",
    "    #   recording, this was the clean part and easy to visually digest\n",
    "    Fun.plot_norms(dat.data,90,91)\n",
    "    \n",
    "    #   saving drops of this recording into drops{} dictionary.\n",
    "    #   drop is calculated as rms or raw over rms of filtered.\n",
    "    drops[i] = Fun.find_drop(dat.data)\n",
    "    \n",
    "#   deleting i from the for loop, just trying to keep the code clean\n",
    "del i"
   ],
   "metadata": {
    "collapsed": false,
    "pycharm": {
     "name": "#%%\n",
     "is_executing": true
    }
   }
  },
  {
   "cell_type": "markdown",
   "source": [
    "## Calculated drops"
   ],
   "metadata": {
    "collapsed": false,
    "pycharm": {
     "name": "#%% md\n"
    }
   }
  },
  {
   "cell_type": "code",
   "execution_count": null,
   "outputs": [],
   "source": [
    "#   creates a header for printing the table of values from drop\n",
    "print(\"{:<8} {:<15} {:<15} {:<15} {:<15}\".format('Hz',\n",
    "                                                 'mag drop',\n",
    "                                                 'mag drop w/ cal',\n",
    "                                                 'grad drop',\n",
    "                                                 'grad drop w/ cal'))\n",
    "\n",
    "#   for looping through all recording and printing calculated drops\n",
    "#   currently rounded to 4th decimal place, change as desired\n",
    "for i in ['5','20','70','105']:\n",
    "    print(\"{:<8} {:<15} {:<15} {:<15} {:<15}\".format(i,\n",
    "                                                     round(drops[i]['mdat'], 4),\n",
    "                                                     round(drops[i]['mcdat'], 4),\n",
    "                                                     round(drops[i]['gdat'], 4),\n",
    "                                                     round(drops[i]['gcdat'], 4)))\n",
    "#   deleting i from the for loop\n",
    "del i"
   ],
   "metadata": {
    "collapsed": false,
    "pycharm": {
     "name": "#%%\n",
     "is_executing": true
    }
   }
  }
 ],
 "metadata": {
  "kernelspec": {
   "display_name": "Python 3",
   "language": "python",
   "name": "python3"
  },
  "language_info": {
   "codemirror_mode": {
    "name": "ipython",
    "version": 2
   },
   "file_extension": ".py",
   "mimetype": "text/x-python",
   "name": "python",
   "nbconvert_exporter": "python",
   "pygments_lexer": "ipython2",
   "version": "2.7.6"
  },
  "pycharm": {
   "stem_cell": {
    "cell_type": "raw",
    "source": [],
    "metadata": {
     "collapsed": false
    }
   }
  }
 },
 "nbformat": 4,
 "nbformat_minor": 0
}